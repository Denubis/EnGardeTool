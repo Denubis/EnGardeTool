{
 "cells": [
  {
   "cell_type": "markdown",
   "metadata": {},
   "source": [
    "# Campaign Outcome\n",
    "\n",
    "1. Determine military ability of all commanding officers.\n",
    "    1. Generate name, MA, ID\n",
    "        1. French name generator for name\n",
    "        1. Write to file: soldiers.csv\n",
    "    1. Generate regimental structure\n",
    "        1. ID, Rank/appointment, Regiment\n",
    "        1. Write to file regiments.csv, earlier lines in file have seniority\n",
    "    1. Produce regimental csv as output\n",
    "        1. For all permanant regimental ranks and higher\n",
    "        1. Write actual order of battle, taking into account brevet promotions to csv suitable for google sheets.\n",
    "2. Determine MA of Adjutants \n",
    "    1. of each commander\n",
    "    1. of Brigade major\n",
    "    1. If MA of adjutant is >= 2 then MA of commanding officer +1\n",
    "3. Accept as input the campaign organisation rolls (e.g. type 53)\n",
    "    1. Lookup involved armies\n",
    "    1. Accept volunteered components in command structure"
   ]
  },
  {
   "cell_type": "code",
   "execution_count": null,
   "metadata": {},
   "outputs": [],
   "source": []
  }
 ],
 "metadata": {
  "kernelspec": {
   "display_name": "Python 3",
   "language": "python",
   "name": "python3"
  },
  "language_info": {
   "codemirror_mode": {
    "name": "ipython",
    "version": 3
   },
   "file_extension": ".py",
   "mimetype": "text/x-python",
   "name": "python",
   "nbconvert_exporter": "python",
   "pygments_lexer": "ipython3",
   "version": "3.7.3"
  }
 },
 "nbformat": 4,
 "nbformat_minor": 2
}
